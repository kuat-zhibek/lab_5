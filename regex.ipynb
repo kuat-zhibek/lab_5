{
 "cells": [
  {
   "cell_type": "markdown",
   "id": "5673c140-8894-460b-af0a-334195508d36",
   "metadata": {},
   "source": [
    "Task 1"
   ]
  },
  {
   "cell_type": "code",
   "execution_count": 1,
   "id": "8eb64ca4-859b-46a2-ba31-97051ff1cb79",
   "metadata": {},
   "outputs": [
    {
     "name": "stdin",
     "output_type": "stream",
     "text": [
      " abb\n"
     ]
    },
    {
     "name": "stdout",
     "output_type": "stream",
     "text": [
      "True\n"
     ]
    }
   ],
   "source": [
    "import re\n",
    "s=input()\n",
    "res=bool(re.fullmatch(r'ab*', s))\n",
    "print(res)"
   ]
  },
  {
   "cell_type": "markdown",
   "id": "d10a56f2-2303-4312-b7e9-b9def9f682ea",
   "metadata": {},
   "source": [
    "Task 2"
   ]
  },
  {
   "cell_type": "code",
   "execution_count": 3,
   "id": "920c3bcb-48e6-4270-a1e0-2c72b788dbb2",
   "metadata": {},
   "outputs": [
    {
     "name": "stdin",
     "output_type": "stream",
     "text": [
      " abb\n"
     ]
    },
    {
     "name": "stdout",
     "output_type": "stream",
     "text": [
      "True\n"
     ]
    }
   ],
   "source": [
    "import re\n",
    "s=input()\n",
    "res=bool(re.fullmatch(r'ab{2,3}', s))\n",
    "print(res)"
   ]
  },
  {
   "cell_type": "markdown",
   "id": "2ba8e96f-f854-45d8-8f44-ae757053cd5b",
   "metadata": {},
   "source": [
    "Task 3"
   ]
  },
  {
   "cell_type": "code",
   "execution_count": 5,
   "id": "0827c177-b5dd-45c2-a30a-35518550b410",
   "metadata": {},
   "outputs": [
    {
     "name": "stdin",
     "output_type": "stream",
     "text": [
      " abh_jh\n"
     ]
    },
    {
     "name": "stdout",
     "output_type": "stream",
     "text": [
      "['abh_jh']\n"
     ]
    }
   ],
   "source": [
    "import re\n",
    "s=input()\n",
    "res=re.findall(r'[a-z]+_[a-z]+', s)\n",
    "print(res)"
   ]
  },
  {
   "cell_type": "markdown",
   "id": "e702860a-bd83-4fcd-a517-525e621ba390",
   "metadata": {},
   "source": [
    "Task 4"
   ]
  },
  {
   "cell_type": "code",
   "execution_count": 9,
   "id": "e25de5b3-d361-4d62-8363-38957300e292",
   "metadata": {},
   "outputs": [
    {
     "name": "stdin",
     "output_type": "stream",
     "text": [
      " HKSAHU_K\n"
     ]
    },
    {
     "name": "stdout",
     "output_type": "stream",
     "text": [
      "['HKSAHU_K']\n"
     ]
    }
   ],
   "source": [
    "import re\n",
    "s=input()\n",
    "res=re.findall(r'[A-Z]+_[A-Z]+', s)\n",
    "print(res)"
   ]
  },
  {
   "cell_type": "markdown",
   "id": "b0530c93-8203-4e81-ad8f-cef5adbbd890",
   "metadata": {},
   "source": [
    "Task 5"
   ]
  },
  {
   "cell_type": "code",
   "execution_count": 15,
   "id": "d83adaa0-dfec-4789-be18-3be9c203ae33",
   "metadata": {},
   "outputs": [
    {
     "name": "stdin",
     "output_type": "stream",
     "text": [
      " afghjkb\n"
     ]
    },
    {
     "name": "stdout",
     "output_type": "stream",
     "text": [
      "True\n"
     ]
    }
   ],
   "source": [
    "import re\n",
    "s=input()\n",
    "res=bool(re.search(\"^a.*b$\", s))\n",
    "print(res)"
   ]
  },
  {
   "cell_type": "markdown",
   "id": "8bd91bee-caa4-427a-ae13-5d035ca02206",
   "metadata": {},
   "source": [
    "Task 6"
   ]
  },
  {
   "cell_type": "code",
   "execution_count": 17,
   "id": "95de3c33-7fba-423f-ae7b-f74f54cedc5a",
   "metadata": {},
   "outputs": [
    {
     "name": "stdin",
     "output_type": "stream",
     "text": [
      " agkla, aui8u. uhai.\n"
     ]
    },
    {
     "name": "stdout",
     "output_type": "stream",
     "text": [
      "agkla::aui8u::uhai:\n"
     ]
    }
   ],
   "source": [
    "s=input()\n",
    "res=re.sub(r'[ ,.]', ':', s)\n",
    "print(res)"
   ]
  },
  {
   "cell_type": "markdown",
   "id": "d4ceea82-d7ab-448e-9677-6589f363ed18",
   "metadata": {},
   "source": [
    "Task 7"
   ]
  },
  {
   "cell_type": "code",
   "execution_count": 29,
   "id": "c8dc6956-d1c5-467a-8947-a639e79ef1d5",
   "metadata": {},
   "outputs": [
    {
     "name": "stdin",
     "output_type": "stream",
     "text": [
      " sdfghjk_vhbskj_haj\n"
     ]
    },
    {
     "name": "stdout",
     "output_type": "stream",
     "text": [
      "sDFGHJK_VHBSKJ_HAJ\n"
     ]
    }
   ],
   "source": [
    "s=input()\n",
    "words=s.strip(\"_\")\n",
    "res=words[0] + ''.join(word.capitalize() for word in words[1:])\n",
    "print(res)"
   ]
  },
  {
   "cell_type": "code",
   "execution_count": null,
   "id": "43a32510-466a-47b6-9682-116b08bfe36c",
   "metadata": {},
   "outputs": [],
   "source": []
  },
  {
   "cell_type": "markdown",
   "id": "9c38daa8-9a0e-4180-afd5-e0048a839c04",
   "metadata": {},
   "source": [
    "Task 8"
   ]
  },
  {
   "cell_type": "code",
   "execution_count": 21,
   "id": "9647a951-f8c8-4028-b39b-8181b2a287af",
   "metadata": {},
   "outputs": [
    {
     "name": "stdin",
     "output_type": "stream",
     "text": [
      " DCFVGBHJNKML, SY7\n"
     ]
    },
    {
     "name": "stdout",
     "output_type": "stream",
     "text": [
      "['', 'D', 'C', 'F', 'V', 'G', 'B', 'H', 'J', 'N', 'K', 'M', 'L, ', 'S', 'Y7']\n"
     ]
    }
   ],
   "source": [
    "s=input()\n",
    "res=re.split(r'(?=[A-Z])', s)\n",
    "print(res)"
   ]
  },
  {
   "cell_type": "markdown",
   "id": "21376bf9-c1ba-42ad-b887-c0e8fb82e1ce",
   "metadata": {},
   "source": [
    "Task 9"
   ]
  },
  {
   "cell_type": "code",
   "execution_count": 25,
   "id": "448cfbbe-1ba1-4f01-b73d-be2a160d828e",
   "metadata": {},
   "outputs": [
    {
     "name": "stdin",
     "output_type": "stream",
     "text": [
      " ASDFGHJ EUIW\n"
     ]
    },
    {
     "name": "stdout",
     "output_type": "stream",
     "text": [
      "A S D F G H J  E U I W\n"
     ]
    }
   ],
   "source": [
    "s=input()\n",
    "res=re.sub(r'([A-Z])', r' \\1', s).strip()\n",
    "print(res)"
   ]
  },
  {
   "cell_type": "markdown",
   "id": "70dea945-487e-449f-a7e7-268213b10892",
   "metadata": {},
   "source": [
    "Task 10"
   ]
  },
  {
   "cell_type": "code",
   "execution_count": 27,
   "id": "7c3e3f54-3885-4511-b387-351ad00afc9b",
   "metadata": {},
   "outputs": [
    {
     "name": "stdin",
     "output_type": "stream",
     "text": [
      " ASDFGHJ SHUY\n"
     ]
    },
    {
     "name": "stdout",
     "output_type": "stream",
     "text": [
      "a_s_d_f_g_h_j _s_h_u_y\n"
     ]
    }
   ],
   "source": [
    "s=input()\n",
    "res=re.sub(r'([A-Z])', r'_\\1', s).lower().lstrip('_')\n",
    "print(res)"
   ]
  }
 ],
 "metadata": {
  "kernelspec": {
   "display_name": "Python [conda env:base] *",
   "language": "python",
   "name": "conda-base-py"
  },
  "language_info": {
   "codemirror_mode": {
    "name": "ipython",
    "version": 3
   },
   "file_extension": ".py",
   "mimetype": "text/x-python",
   "name": "python",
   "nbconvert_exporter": "python",
   "pygments_lexer": "ipython3",
   "version": "3.12.7"
  }
 },
 "nbformat": 4,
 "nbformat_minor": 5
}
